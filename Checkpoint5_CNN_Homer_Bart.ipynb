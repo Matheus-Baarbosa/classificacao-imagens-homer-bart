{
  "cells": [
    {
      "cell_type": "markdown",
      "metadata": {
        "id": "654f0e21"
      },
      "source": [
        "#**Redes Neurais Artificiais e Deep Learning**\n",
        "\n",
        "##**1. Definindo o problema**\n",
        "\n",
        "O objetivo deste projeto é desenvolver um **classificador de imagens** capaz de identificar automaticamente personagens específicos da série *Os Simpsons*, mais precisamente **Homer Simpson** e **Bart Simpson**.\n",
        "\n",
        "Para isso, será utilizada uma **Rede Neural Convolucional (CNN)** implementada com as bibliotecas **Keras** e **TensorFlow**. As CNNs são amplamente empregadas em tarefas de **visão computacional** devido à sua capacidade de extrair padrões visuais relevantes diretamente das imagens, dispensando o pré-processamento manual de características.\n",
        "\n",
        "---\n",
        "\n",
        "###**Como funciona a proposta?**\n",
        "\n",
        "- Alimentamos o modelo com um conjunto de **imagens rotuladas** de cada personagem (conjunto de treinamento);\n",
        "- Permitimos que a rede **aprenda** as características visuais que distinguem Homer e Bart;\n",
        "- Avaliamos sua performance em um **conjunto de imagens de teste** nunca vistas anteriormente.\n",
        "\n",
        "---\n",
        "\n",
        " O sistema resultante poderá ser utilizado como base para aplicações práticas, como:\n",
        "- Reconhecimento facial/cartoon;\n",
        "- Organização automática de imagens;\n",
        "- Ferramentas de entretenimento baseadas em visão computacional.\n",
        "\n"
      ]
    },
    {
      "cell_type": "markdown",
      "metadata": {
        "id": "0a106c36"
      },
      "source": [
        "## **2. Pré-processamento das imagens**"
      ]
    },
    {
      "cell_type": "code",
      "execution_count": 1,
      "metadata": {
        "colab": {
          "base_uri": "https://localhost:8080/"
        },
        "id": "31590cf6",
        "outputId": "55e5b377-f5df-456f-c2e1-0dd6de76c13c"
      },
      "outputs": [
        {
          "output_type": "stream",
          "name": "stdout",
          "text": [
            "Conteúdo da pasta dataset_personagens: ['imagens', 'training_set', 'test_set', '.DS_Store']\n",
            "Found 196 images belonging to 2 classes.\n",
            "Found 73 images belonging to 2 classes.\n"
          ]
        }
      ],
      "source": [
        "import zipfile  # Biblioteca para lidar com arquivos .zip\n",
        "import os  # Biblioteca para manipular o sistema de arquivos\n",
        "from tensorflow.keras.preprocessing.image import ImageDataGenerator  # Utilizada para pré-processar imagens e aplicar data augmentation\n",
        "\n",
        "# Caminho do arquivo ZIP contendo o dataset de imagens\n",
        "zip_path = '/content/dataset_personagens.zip'\n",
        "\n",
        "# Descompacta o arquivo ZIP no diretório /content/\n",
        "with zipfile.ZipFile(zip_path, 'r') as zip_ref:\n",
        "    zip_ref.extractall('/content/')\n",
        "\n",
        "# Lista os diretórios extraídos para garantir que tudo foi descompactado corretamente\n",
        "print(\"Conteúdo da pasta dataset_personagens:\", os.listdir('/content/dataset_personagens'))\n",
        "\n",
        "# Cria um gerador de imagens para o conjunto de treinamento com data augmentation\n",
        "gerador_treinamento = ImageDataGenerator(\n",
        "    rescale=1./255,            # Normaliza os pixels para o intervalo [0,1]\n",
        "    rotation_range=7,          # Rotaciona aleatoriamente as imagens em até 7 graus\n",
        "    horizontal_flip=True,      # Inverte horizontalmente algumas imagens\n",
        "    shear_range=0.2,           # Aplica transformação de cisalhamento (shear)\n",
        "    height_shift_range=0.07,   # Move verticalmente as imagens em até 7% da altura\n",
        "    zoom_range=0.2             # Aplica zoom aleatório em até 20%\n",
        ")\n",
        "\n",
        "# Cria um gerador para o conjunto de teste (sem data augmentation, apenas normalização)\n",
        "gerador_teste = ImageDataGenerator(rescale=1./255)\n",
        "\n",
        "# Caminhos das pastas com as imagens de treino e teste, já extraídas\n",
        "train_path = '/content/dataset_personagens/training_set'\n",
        "test_path = '/content/dataset_personagens/test_set'\n",
        "\n",
        "# Gera os lotes (batches) de imagens para o treinamento\n",
        "treinamento = gerador_treinamento.flow_from_directory(\n",
        "    train_path,                # Caminho da pasta de treinamento\n",
        "    target_size=(64, 64),      # Redimensiona todas as imagens para 64x64 pixels\n",
        "    batch_size=32,             # Número de imagens por lote\n",
        "    class_mode='categorical'   # Usa classificação multiclasse (vetores one-hot)\n",
        ")\n",
        "\n",
        "# Gera os lotes de imagens para o teste (sem data augmentation)\n",
        "teste = gerador_teste.flow_from_directory(\n",
        "    test_path,                 # Caminho da pasta de teste\n",
        "    target_size=(64, 64),      # Redimensiona para 64x64 (igual ao treino)\n",
        "    batch_size=32,             # Mesmo tamanho de lote\n",
        "    class_mode='categorical'   # Mesmo modo de classificação\n",
        ")\n"
      ]
    },
    {
      "cell_type": "markdown",
      "source": [
        "###Pré-processamento e Preparação do Dataset\n",
        "\n",
        "Nesta etapa do projeto, realizamos a **extração, organização e preparação das imagens** que serão utilizadas para treinar e avaliar o modelo de rede neural convolucional.\n",
        "\n",
        "Primeiramente, o código importa bibliotecas essenciais como `zipfile` e `os`, que permitem manipular arquivos compactados e diretórios no sistema. Em seguida, o dataset, que foi disponibilizado no formato `.zip`, é **descompactado diretamente no ambiente do Google Colab**. Isso garante que todas as imagens estejam acessíveis no formato de pastas esperadas pelas ferramentas de pré-processamento do Keras.\n",
        "\n",
        "Após a extração, utilizamos a classe `ImageDataGenerator` para configurar dois geradores de imagens:\n",
        "\n",
        "- O **gerador de treinamento** aplica técnicas de *data augmentation*, como **rotação**, **inversão horizontal**, **cisalhamento**, **deslocamento vertical** e **zoom**. Isso aumenta a diversidade do conjunto de dados e ajuda o modelo a generalizar melhor.\n",
        "- O **gerador de teste** realiza apenas a **normalização dos pixels**, redimensionando-os para o intervalo entre 0 e 1, mantendo a integridade dos dados para uma avaliação precisa do modelo.\n",
        "\n",
        "As imagens são organizadas em duas pastas principais:\n",
        "\n",
        "- `/training_set`: contém subpastas com imagens de treino de cada classe (*Bart* e *Homer*).\n",
        "- `/test_set`: contém subpastas com imagens de teste de cada classe.\n",
        "\n",
        "Os métodos `flow_from_directory()` são utilizados para **carregar automaticamente as imagens** dessas pastas, **rotulando-as com base na estrutura de diretórios**. As imagens são redimensionadas para **64x64 pixels**, agrupadas em lotes de **32 imagens** e preparadas para **classificação multiclasse** com vetores *one-hot*.\n",
        "\n",
        "Essa etapa garante que o modelo receba os dados no formato adequado, com pré-processamentos e aumentos aplicados corretamente, possibilitando um **treinamento mais robusto e eficaz**.\n"
      ],
      "metadata": {
        "id": "Cf5efCVQL1ID"
      }
    },
    {
      "cell_type": "markdown",
      "metadata": {
        "id": "c3612cae"
      },
      "source": [
        "## **3. Construção e explicação da arquitetura da CNN**"
      ]
    },
    {
      "cell_type": "code",
      "execution_count": 2,
      "metadata": {
        "colab": {
          "base_uri": "https://localhost:8080/"
        },
        "id": "189fdb81",
        "outputId": "1d6a8543-6610-4535-d0cd-ca5a9f9e1dcc"
      },
      "outputs": [
        {
          "output_type": "stream",
          "name": "stderr",
          "text": [
            "/usr/local/lib/python3.11/dist-packages/keras/src/layers/convolutional/base_conv.py:107: UserWarning: Do not pass an `input_shape`/`input_dim` argument to a layer. When using Sequential models, prefer using an `Input(shape)` object as the first layer in the model instead.\n",
            "  super().__init__(activity_regularizer=activity_regularizer, **kwargs)\n",
            "/usr/local/lib/python3.11/dist-packages/keras/src/trainers/data_adapters/py_dataset_adapter.py:121: UserWarning: Your `PyDataset` class should call `super().__init__(**kwargs)` in its constructor. `**kwargs` can include `workers`, `use_multiprocessing`, `max_queue_size`. Do not pass these arguments to `fit()`, as they will be ignored.\n",
            "  self._warn_if_super_not_called()\n"
          ]
        },
        {
          "output_type": "stream",
          "name": "stdout",
          "text": [
            "Epoch 1/10\n",
            "\u001b[1m7/7\u001b[0m \u001b[32m━━━━━━━━━━━━━━━━━━━━\u001b[0m\u001b[37m\u001b[0m \u001b[1m5s\u001b[0m 414ms/step - accuracy: 0.5546 - loss: 0.6823 - val_accuracy: 0.5753 - val_loss: 0.6492\n",
            "Epoch 2/10\n",
            "\u001b[1m7/7\u001b[0m \u001b[32m━━━━━━━━━━━━━━━━━━━━\u001b[0m\u001b[37m\u001b[0m \u001b[1m1s\u001b[0m 187ms/step - accuracy: 0.6685 - loss: 0.5931 - val_accuracy: 0.8082 - val_loss: 0.5828\n",
            "Epoch 3/10\n",
            "\u001b[1m7/7\u001b[0m \u001b[32m━━━━━━━━━━━━━━━━━━━━\u001b[0m\u001b[37m\u001b[0m \u001b[1m1s\u001b[0m 177ms/step - accuracy: 0.7403 - loss: 0.6197 - val_accuracy: 0.5890 - val_loss: 0.6265\n",
            "Epoch 4/10\n",
            "\u001b[1m7/7\u001b[0m \u001b[32m━━━━━━━━━━━━━━━━━━━━\u001b[0m\u001b[37m\u001b[0m \u001b[1m1s\u001b[0m 164ms/step - accuracy: 0.6376 - loss: 0.5836 - val_accuracy: 0.7260 - val_loss: 0.4904\n",
            "Epoch 5/10\n",
            "\u001b[1m7/7\u001b[0m \u001b[32m━━━━━━━━━━━━━━━━━━━━\u001b[0m\u001b[37m\u001b[0m \u001b[1m1s\u001b[0m 161ms/step - accuracy: 0.7455 - loss: 0.5058 - val_accuracy: 0.7534 - val_loss: 0.4683\n",
            "Epoch 6/10\n",
            "\u001b[1m7/7\u001b[0m \u001b[32m━━━━━━━━━━━━━━━━━━━━\u001b[0m\u001b[37m\u001b[0m \u001b[1m1s\u001b[0m 188ms/step - accuracy: 0.7606 - loss: 0.4785 - val_accuracy: 0.8356 - val_loss: 0.3359\n",
            "Epoch 7/10\n",
            "\u001b[1m7/7\u001b[0m \u001b[32m━━━━━━━━━━━━━━━━━━━━\u001b[0m\u001b[37m\u001b[0m \u001b[1m1s\u001b[0m 182ms/step - accuracy: 0.8075 - loss: 0.4158 - val_accuracy: 0.7808 - val_loss: 0.4354\n",
            "Epoch 8/10\n",
            "\u001b[1m7/7\u001b[0m \u001b[32m━━━━━━━━━━━━━━━━━━━━\u001b[0m\u001b[37m\u001b[0m \u001b[1m1s\u001b[0m 184ms/step - accuracy: 0.7372 - loss: 0.5088 - val_accuracy: 0.6164 - val_loss: 0.5781\n",
            "Epoch 9/10\n",
            "\u001b[1m7/7\u001b[0m \u001b[32m━━━━━━━━━━━━━━━━━━━━\u001b[0m\u001b[37m\u001b[0m \u001b[1m3s\u001b[0m 313ms/step - accuracy: 0.7991 - loss: 0.4277 - val_accuracy: 0.9178 - val_loss: 0.2774\n",
            "Epoch 10/10\n",
            "\u001b[1m7/7\u001b[0m \u001b[32m━━━━━━━━━━━━━━━━━━━━\u001b[0m\u001b[37m\u001b[0m \u001b[1m1s\u001b[0m 171ms/step - accuracy: 0.7910 - loss: 0.4338 - val_accuracy: 0.8493 - val_loss: 0.2744\n"
          ]
        },
        {
          "output_type": "execute_result",
          "data": {
            "text/plain": [
              "<keras.src.callbacks.history.History at 0x78e221fbd810>"
            ]
          },
          "metadata": {},
          "execution_count": 2
        }
      ],
      "source": [
        "from tensorflow.keras.models import Sequential\n",
        "from tensorflow.keras.layers import Conv2D, MaxPooling2D, Flatten, Dense, Dropout\n",
        "\n",
        "# Inicializa o modelo sequencial (camadas empilhadas linearmente)\n",
        "modelo = Sequential()\n",
        "\n",
        "# Primeira camada convolucional: 32 filtros 3x3, função de ativação ReLU e forma da imagem de entrada\n",
        "modelo.add(Conv2D(32, (3,3), activation='relu', input_shape=(64,64,3)))\n",
        "\n",
        "# Camada de pooling para reduzir a dimensionalidade (2x2)\n",
        "modelo.add(MaxPooling2D(pool_size=(2,2)))\n",
        "\n",
        "# Segunda camada convolucional com 32 filtros\n",
        "modelo.add(Conv2D(32, (3,3), activation='relu'))\n",
        "\n",
        "# Pooling novamente para reduzir a dimensionalidade\n",
        "modelo.add(MaxPooling2D(pool_size=(2,2)))\n",
        "\n",
        "# Terceira camada convolucional\n",
        "modelo.add(Conv2D(32, (3,3), activation='relu'))\n",
        "\n",
        "# Pooling final\n",
        "modelo.add(MaxPooling2D(pool_size=(2,2)))\n",
        "\n",
        "# Achata a matriz de ativação 3D em um vetor 1D para a rede neural densa\n",
        "modelo.add(Flatten())\n",
        "\n",
        "# Camada totalmente conectada com 128 neurônios e ativação ReLU\n",
        "modelo.add(Dense(units=128, activation='relu'))\n",
        "\n",
        "# Dropout para reduzir overfitting (20% dos neurônios desligados aleatoriamente)\n",
        "modelo.add(Dropout(0.2))\n",
        "\n",
        "# Camada de saída com 2 neurônios (2 classes: Bart e Homer) e softmax para classificação\n",
        "modelo.add(Dense(units=2, activation='softmax'))\n",
        "\n",
        "# Compila o modelo definindo otimizador, função de perda e métrica\n",
        "modelo.compile(optimizer='adam', loss='categorical_crossentropy', metrics=['accuracy'])\n",
        "\n",
        "# Inicia o treinamento com 10 épocas, usando os dados de validação\n",
        "modelo.fit(treinamento, epochs=10, validation_data=teste)\n"
      ]
    },
    {
      "cell_type": "markdown",
      "source": [
        "###Construção e Treinamento do Modelo com Rede Neural Convolucional (CNN)\n",
        "\n",
        "Nesta etapa, foi criada uma **rede neural convolucional (CNN)** utilizando a API Keras. A CNN é ideal para tarefas de visão computacional, pois consegue extrair automaticamente padrões visuais de imagens, como bordas, texturas e formas.\n",
        "\n",
        "O modelo foi construído com a classe `Sequential`, que permite adicionar camadas de forma linear. A arquitetura utilizada é composta por:\n",
        "\n",
        "- **3 camadas convolucionais** com 32 filtros cada e função de ativação `ReLU`, responsáveis por identificar padrões visuais nas imagens.\n",
        "- **3 camadas de MaxPooling** com tamanho 2x2, utilizadas para reduzir a dimensionalidade e evitar overfitting.\n",
        "- Uma camada `Flatten`, que achata os dados tridimensionais em um vetor unidimensional para ser processado pelas camadas densas.\n",
        "- Uma camada `Dense` com 128 neurônios e ativação `ReLU`, responsável pelo processamento das informações extraídas.\n",
        "- Um `Dropout` de 20%, que desliga aleatoriamente alguns neurônios durante o treinamento, ajudando a evitar o overfitting.\n",
        "- Uma camada de saída `Dense` com 2 neurônios e ativação `softmax`, pois estamos realizando uma **classificação multiclasse com duas categorias**: *Bart* e *Homer*.\n",
        "\n",
        "O modelo foi **compilado** com o otimizador `Adam`, uma escolha eficiente para ajuste automático da taxa de aprendizado, e com a função de perda `categorical_crossentropy`, adequada para classificações multiclasse com codificação one-hot.\n",
        "\n",
        "Por fim, o treinamento foi realizado por **10 épocas**, utilizando o conjunto de treinamento e validando a performance com os dados de teste a cada época.\n",
        "\n",
        "Com essa configuração, o modelo consegue aprender a distinguir os personagens com base em suas características visuais.\n"
      ],
      "metadata": {
        "id": "4uuzZ5AuNPUt"
      }
    },
    {
      "cell_type": "markdown",
      "metadata": {
        "id": "66797d2c"
      },
      "source": [
        "## **4. Avaliação do percentual de acerto do modelo**"
      ]
    },
    {
      "cell_type": "code",
      "execution_count": 3,
      "metadata": {
        "colab": {
          "base_uri": "https://localhost:8080/"
        },
        "id": "336e7a34",
        "outputId": "600d2303-37e2-4fe8-d220-6bac2a8624ba"
      },
      "outputs": [
        {
          "output_type": "stream",
          "name": "stdout",
          "text": [
            "\u001b[1m3/3\u001b[0m \u001b[32m━━━━━━━━━━━━━━━━━━━━\u001b[0m\u001b[37m\u001b[0m \u001b[1m0s\u001b[0m 44ms/step - accuracy: 0.8387 - loss: 0.2934\n",
            "Acurácia no conjunto de teste: 84.93%\n"
          ]
        }
      ],
      "source": [
        "# Avalia a performance do modelo treinado no conjunto de teste\n",
        "loss, accuracy = modelo.evaluate(teste)\n",
        "\n",
        "# Exibe a acurácia final do modelo no conjunto de teste em formato percentual com duas casas decimais\n",
        "print(f'Acurácia no conjunto de teste: {accuracy * 100:.2f}%')"
      ]
    },
    {
      "cell_type": "markdown",
      "source": [
        "###Avaliação do Modelo\n",
        "\n",
        "Após o treinamento, realizamos a **avaliação do modelo** utilizando o conjunto de teste, que contém imagens que **não foram vistas pelo modelo durante o treinamento**.\n",
        "\n",
        "A função `modelo.evaluate()` percorre o conjunto de teste e retorna duas métricas:\n",
        "\n",
        "- **Loss**: representa a perda (diferença entre a predição e o valor real);\n",
        "- **Accuracy**: indica a porcentagem de acertos do modelo.\n",
        "\n",
        "A acurácia é então exibida no console, formatada com duas casas decimais. Esse valor é fundamental para entender a capacidade de **generalização** do modelo — ou seja, como ele se comporta ao classificar dados novos e reais.\n",
        "\n",
        "Esse resultado mostra se o modelo realmente aprendeu os padrões dos personagens ou apenas memorizou os exemplos de treino.\n"
      ],
      "metadata": {
        "id": "y5OO7smcNwLT"
      }
    },
    {
      "cell_type": "markdown",
      "metadata": {
        "id": "7af54250"
      },
      "source": [
        "## **5. Teste do modelo com imagem externa**"
      ]
    },
    {
      "cell_type": "code",
      "execution_count": 5,
      "metadata": {
        "colab": {
          "base_uri": "https://localhost:8080/",
          "height": 446
        },
        "id": "894f5fdb",
        "outputId": "186c2f3e-8c90-4bfd-ca6f-d3f59ebf7397"
      },
      "outputs": [
        {
          "output_type": "stream",
          "name": "stdout",
          "text": [
            "\u001b[1m1/1\u001b[0m \u001b[32m━━━━━━━━━━━━━━━━━━━━\u001b[0m\u001b[37m\u001b[0m \u001b[1m0s\u001b[0m 119ms/step\n"
          ]
        },
        {
          "output_type": "display_data",
          "data": {
            "text/plain": [
              "<Figure size 640x480 with 1 Axes>"
            ],
            "image/png": "[encoded data removed]"
          },
          "metadata": {}
        }
      ],
      "source": [
        "# Importa as bibliotecas necessárias\n",
        "import numpy as np\n",
        "from tensorflow.keras.preprocessing import image\n",
        "import matplotlib.pyplot as plt\n",
        "\n",
        "# Caminho da imagem a ser testada\n",
        "img_path = '/content/Homer_Simpson_2006.png'  # Pode ser alterado para homer1.png, por exemplo\n",
        "\n",
        "# Carrega a imagem redimensionando para 64x64 pixels (tamanho usado no treinamento)\n",
        "imagem_teste = image.load_img(img_path, target_size=(64, 64))\n",
        "\n",
        "# Converte a imagem carregada para um array NumPy\n",
        "imagem_teste_array = image.img_to_array(imagem_teste)\n",
        "\n",
        "# Adiciona uma dimensão extra ao array para simular um \"lote\" de uma imagem (batch size = 1)\n",
        "imagem_teste_array = np.expand_dims(imagem_teste_array, axis=0)\n",
        "\n",
        "# Normaliza os valores dos pixels (entre 0 e 1)\n",
        "imagem_teste_array /= 255\n",
        "\n",
        "# Realiza a predição com o modelo treinado\n",
        "resultado = modelo.predict(imagem_teste_array)\n",
        "\n",
        "# Recupera os nomes das classes, com base nos dados de treinamento\n",
        "classes = list(treinamento.class_indices.keys())\n",
        "\n",
        "# Exibe a imagem e o resultado da classificação\n",
        "plt.imshow(imagem_teste)                     # Mostra a imagem original\n",
        "plt.axis('off')                              # Remove os eixos\n",
        "plt.title(f'Predição: {classes[np.argmax(resultado)]}')  # Mostra o nome da classe prevista\n",
        "plt.show()\n"
      ]
    },
    {
      "cell_type": "markdown",
      "source": [
        "###Testando uma Imagem Nova\n",
        "\n",
        "Neste bloco, testamos o modelo com uma **imagem externa** (fora do conjunto de treinamento/teste) para verificar sua capacidade de **classificar corretamente personagens nunca vistos**.\n",
        "\n",
        "Os passos realizados são:\n",
        "\n",
        "1. **Carregamento da imagem** com tamanho (64x64 pixels), que é o mesmo utilizado na rede.\n",
        "2. **Pré-processamento**: a imagem é convertida em um array NumPy, expandida para simular um batch e normalizada (dividida por 255).\n",
        "3. **Predição**: a imagem é passada ao modelo para obter a probabilidade de cada classe.\n",
        "4. **Visualização**: o resultado é exibido junto com a imagem original, mostrando qual personagem foi identificado.\n",
        "\n",
        "Essa etapa é essencial para testar a **aplicabilidade real do modelo**, ou seja, se ele consegue identificar corretamente imagens individuais fornecidas pelo usuário.\n"
      ],
      "metadata": {
        "id": "ZIOiXH3_zFLS"
      }
    },
    {
      "cell_type": "markdown",
      "source": [
        "## **6. Conclusão**\n",
        "\n",
        "Neste projeto, foi desenvolvida e treinada uma **Rede Neural Convolucional (CNN)** utilizando as bibliotecas **Keras** e **TensorFlow**, com o objetivo de **classificar imagens dos personagens Homer e Bart Simpson**.\n",
        "\n",
        "---\n",
        "\n",
        "**Etapas do processo:**\n",
        "- Preparação e normalização das imagens;\n",
        "- Definição e construção da arquitetura da CNN;\n",
        "- Treinamento e avaliação do modelo com métricas de acurácia;\n",
        "- Testes com imagens externas ao dataset.\n",
        "\n",
        "---\n",
        "\n",
        "**Resultados:**  \n",
        "O modelo foi capaz de aprender a distinguir com precisão os dois personagens, demonstrando a eficácia das técnicas de **Visão Computacional** aplicadas à **classificação de imagens**.\n",
        "\n",
        "---\n",
        "\n",
        "**Considerações finais:**  \n",
        "Este projeto serviu como uma introdução prática ao uso de **Deep Learning para reconhecimento de padrões visuais**. A abordagem pode ser facilmente expandida para incluir outros personagens ou categorias, servindo como base para projetos mais avançados em visão computacional.\n",
        "\n"
      ],
      "metadata": {
        "id": "2f4z79uzzYdp"
      }
    }
  ],
  "metadata": {
    "colab": {
      "provenance": []
    },
    "kernelspec": {
      "display_name": "Python 3",
      "name": "python3"
    },
    "language_info": {
      "name": "python"
    }
  },
  "nbformat": 4,
  "nbformat_minor": 0
}